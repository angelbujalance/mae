{
 "cells": [
  {
   "cell_type": "code",
   "execution_count": 1,
   "metadata": {},
   "outputs": [],
   "source": [
    "import pandas as pd \n",
    "import matplotlib.pyplot as plt\n",
    "from sklearn.model_selection import train_test_split\n",
    "from sklearn.metrics import mean_squared_error, roc_auc_score, precision_score, r2_score\n",
    "from sklearn.linear_model import LinearRegression, LogisticRegression\n",
    "from sklearn.neural_network import MLPRegressor, MLPClassifier\n",
    "from sklearn.ensemble import RandomForestRegressor\n",
    "from math import sqrt"
   ]
  },
  {
   "cell_type": "code",
   "execution_count": 2,
   "metadata": {},
   "outputs": [],
   "source": [
    "# train_df = pd.read_csv('embeds_train_ECG_latents_w_pred_vars_emb_size_576_CL.csv')\n",
    "# val_df = pd.read_csv('embeds_val_ECG_latents_w_pred_vars_emb_size_576_CL.csv')\n",
    "\n",
    "\n",
    "# train_df = pd.read_csv('embeds_train_ECG_latents_w_pred_vars_emb_size_576_CL_3D_data.csv')\n",
    "# val_df = pd.read_csv('embeds_val_ECG_latents_w_pred_vars_emb_size_576_CL_3D_data.csv')\n",
    "\n",
    "# train_df = pd.read_csv('embeds_train_ECG_latents_w_pred_vars_emb_size_576_pre_CL.csv')\n",
    "# val_df = pd.read_csv('embeds_val_ECG_latents_w_pred_vars_emb_size_576_pre_CL.csv')\n",
    "\n",
    "# test_df = pd.read_csv('embeds_test_ECG_latents_w_pred_vars_emb_size_576_CL.csv')\n",
    "\n",
    "train_df = pd.read_csv('embeds_train_ECG_latents_w_pred_vars_emb_size_576_CL_3D_data_ALL_pheno2.csv')\n",
    "val_df = pd.read_csv('embeds_val_ECG_latents_w_pred_vars_emb_size_576_CL_3D_data_ALL_pheno2.csv')\n",
    "\n",
    "X_train = train_df.drop(columns=['f.eid', 'ID', 'age_imaging_visit', 'sex', 'QRS_duration', 'QRS_num',\n",
    "                                'LV_diast_vol', 'LV_myoc_mass', 'RV_diast_vol', 'LV_myoc_thick'])\n",
    "\n",
    "y_train = train_df[['age_imaging_visit', 'sex', 'QRS_duration', 'QRS_num']]\n",
    "\n",
    "X_val = val_df.drop(columns=['f.eid', 'ID', 'age_imaging_visit', 'sex', 'QRS_duration', 'QRS_num',\n",
    "                             'LV_diast_vol', 'LV_myoc_mass', 'RV_diast_vol', 'LV_myoc_thick',])\n",
    "\n",
    "y_val = val_df[['age_imaging_visit', 'sex', 'QRS_duration', 'QRS_num']]\n",
    "\n",
    "X_test = val_df.drop(columns=['f.eid', 'ID', 'age_imaging_visit', 'sex', 'QRS_duration', 'QRS_num',\n",
    "                             'LV_diast_vol', 'LV_myoc_mass', 'RV_diast_vol', 'LV_myoc_thick',])\n",
    "\n",
    "y_test = val_df[['age_imaging_visit', 'sex', 'QRS_duration', 'QRS_num']]\n"
   ]
  },
  {
   "cell_type": "code",
   "execution_count": 3,
   "metadata": {},
   "outputs": [
    {
     "data": {
      "text/html": [
       "<div>\n",
       "<style scoped>\n",
       "    .dataframe tbody tr th:only-of-type {\n",
       "        vertical-align: middle;\n",
       "    }\n",
       "\n",
       "    .dataframe tbody tr th {\n",
       "        vertical-align: top;\n",
       "    }\n",
       "\n",
       "    .dataframe thead th {\n",
       "        text-align: right;\n",
       "    }\n",
       "</style>\n",
       "<table border=\"1\" class=\"dataframe\">\n",
       "  <thead>\n",
       "    <tr style=\"text-align: right;\">\n",
       "      <th></th>\n",
       "      <th>age_imaging_visit</th>\n",
       "      <th>sex</th>\n",
       "      <th>QRS_duration</th>\n",
       "      <th>QRS_num</th>\n",
       "    </tr>\n",
       "  </thead>\n",
       "  <tbody>\n",
       "    <tr>\n",
       "      <th>0</th>\n",
       "      <td>75.0</td>\n",
       "      <td>0</td>\n",
       "      <td>128.0</td>\n",
       "      <td>9.0</td>\n",
       "    </tr>\n",
       "    <tr>\n",
       "      <th>1</th>\n",
       "      <td>61.0</td>\n",
       "      <td>0</td>\n",
       "      <td>94.0</td>\n",
       "      <td>11.0</td>\n",
       "    </tr>\n",
       "    <tr>\n",
       "      <th>2</th>\n",
       "      <td>56.0</td>\n",
       "      <td>1</td>\n",
       "      <td>98.0</td>\n",
       "      <td>8.0</td>\n",
       "    </tr>\n",
       "    <tr>\n",
       "      <th>3</th>\n",
       "      <td>63.0</td>\n",
       "      <td>1</td>\n",
       "      <td>78.0</td>\n",
       "      <td>11.0</td>\n",
       "    </tr>\n",
       "    <tr>\n",
       "      <th>4</th>\n",
       "      <td>78.0</td>\n",
       "      <td>1</td>\n",
       "      <td>80.0</td>\n",
       "      <td>9.0</td>\n",
       "    </tr>\n",
       "    <tr>\n",
       "      <th>5</th>\n",
       "      <td>61.0</td>\n",
       "      <td>1</td>\n",
       "      <td>100.0</td>\n",
       "      <td>NaN</td>\n",
       "    </tr>\n",
       "    <tr>\n",
       "      <th>6</th>\n",
       "      <td>75.0</td>\n",
       "      <td>1</td>\n",
       "      <td>154.0</td>\n",
       "      <td>NaN</td>\n",
       "    </tr>\n",
       "    <tr>\n",
       "      <th>7</th>\n",
       "      <td>71.0</td>\n",
       "      <td>1</td>\n",
       "      <td>76.0</td>\n",
       "      <td>NaN</td>\n",
       "    </tr>\n",
       "    <tr>\n",
       "      <th>8</th>\n",
       "      <td>75.0</td>\n",
       "      <td>0</td>\n",
       "      <td>78.0</td>\n",
       "      <td>9.0</td>\n",
       "    </tr>\n",
       "    <tr>\n",
       "      <th>9</th>\n",
       "      <td>54.0</td>\n",
       "      <td>1</td>\n",
       "      <td>82.0</td>\n",
       "      <td>12.0</td>\n",
       "    </tr>\n",
       "  </tbody>\n",
       "</table>\n",
       "</div>"
      ],
      "text/plain": [
       "   age_imaging_visit  sex  QRS_duration  QRS_num\n",
       "0               75.0    0         128.0      9.0\n",
       "1               61.0    0          94.0     11.0\n",
       "2               56.0    1          98.0      8.0\n",
       "3               63.0    1          78.0     11.0\n",
       "4               78.0    1          80.0      9.0\n",
       "5               61.0    1         100.0      NaN\n",
       "6               75.0    1         154.0      NaN\n",
       "7               71.0    1          76.0      NaN\n",
       "8               75.0    0          78.0      9.0\n",
       "9               54.0    1          82.0     12.0"
      ]
     },
     "execution_count": 3,
     "metadata": {},
     "output_type": "execute_result"
    }
   ],
   "source": [
    "y_train.head(10)"
   ]
  },
  {
   "cell_type": "code",
   "execution_count": 4,
   "metadata": {},
   "outputs": [
    {
     "name": "stdout",
     "output_type": "stream",
     "text": [
      "(11996, 576)\n"
     ]
    },
    {
     "data": {
      "text/html": [
       "<div>\n",
       "<style scoped>\n",
       "    .dataframe tbody tr th:only-of-type {\n",
       "        vertical-align: middle;\n",
       "    }\n",
       "\n",
       "    .dataframe tbody tr th {\n",
       "        vertical-align: top;\n",
       "    }\n",
       "\n",
       "    .dataframe thead th {\n",
       "        text-align: right;\n",
       "    }\n",
       "</style>\n",
       "<table border=\"1\" class=\"dataframe\">\n",
       "  <thead>\n",
       "    <tr style=\"text-align: right;\">\n",
       "      <th></th>\n",
       "      <th>ID</th>\n",
       "      <th>0</th>\n",
       "      <th>1</th>\n",
       "      <th>2</th>\n",
       "      <th>3</th>\n",
       "      <th>4</th>\n",
       "      <th>5</th>\n",
       "      <th>6</th>\n",
       "      <th>7</th>\n",
       "      <th>8</th>\n",
       "      <th>...</th>\n",
       "      <th>575</th>\n",
       "      <th>f.eid</th>\n",
       "      <th>sex</th>\n",
       "      <th>QRS_duration</th>\n",
       "      <th>age_imaging_visit</th>\n",
       "      <th>QRS_num</th>\n",
       "      <th>LV_diast_vol</th>\n",
       "      <th>LV_myoc_mass</th>\n",
       "      <th>RV_diast_vol</th>\n",
       "      <th>LV_myoc_thick</th>\n",
       "    </tr>\n",
       "  </thead>\n",
       "  <tbody>\n",
       "    <tr>\n",
       "      <th>0</th>\n",
       "      <td>2871723</td>\n",
       "      <td>-0.089875</td>\n",
       "      <td>0.451444</td>\n",
       "      <td>-0.107884</td>\n",
       "      <td>-0.247353</td>\n",
       "      <td>-0.147103</td>\n",
       "      <td>0.379006</td>\n",
       "      <td>-0.001708</td>\n",
       "      <td>-0.295991</td>\n",
       "      <td>-0.764888</td>\n",
       "      <td>...</td>\n",
       "      <td>0.118373</td>\n",
       "      <td>2871723</td>\n",
       "      <td>0</td>\n",
       "      <td>128.0</td>\n",
       "      <td>75.0</td>\n",
       "      <td>9.0</td>\n",
       "      <td>NaN</td>\n",
       "      <td>NaN</td>\n",
       "      <td>NaN</td>\n",
       "      <td>NaN</td>\n",
       "    </tr>\n",
       "    <tr>\n",
       "      <th>1</th>\n",
       "      <td>4515271</td>\n",
       "      <td>0.356616</td>\n",
       "      <td>0.638387</td>\n",
       "      <td>0.201613</td>\n",
       "      <td>-0.730499</td>\n",
       "      <td>-0.571195</td>\n",
       "      <td>0.916316</td>\n",
       "      <td>-0.202354</td>\n",
       "      <td>-0.149177</td>\n",
       "      <td>-0.276252</td>\n",
       "      <td>...</td>\n",
       "      <td>-0.144028</td>\n",
       "      <td>4515271</td>\n",
       "      <td>0</td>\n",
       "      <td>94.0</td>\n",
       "      <td>61.0</td>\n",
       "      <td>11.0</td>\n",
       "      <td>126.864</td>\n",
       "      <td>69.4247</td>\n",
       "      <td>154.333</td>\n",
       "      <td>4.97915</td>\n",
       "    </tr>\n",
       "    <tr>\n",
       "      <th>2</th>\n",
       "      <td>1441342</td>\n",
       "      <td>0.152269</td>\n",
       "      <td>0.599168</td>\n",
       "      <td>0.152148</td>\n",
       "      <td>-0.769117</td>\n",
       "      <td>-0.422459</td>\n",
       "      <td>0.242664</td>\n",
       "      <td>0.022787</td>\n",
       "      <td>-0.256860</td>\n",
       "      <td>-0.050047</td>\n",
       "      <td>...</td>\n",
       "      <td>0.012571</td>\n",
       "      <td>1441342</td>\n",
       "      <td>1</td>\n",
       "      <td>98.0</td>\n",
       "      <td>56.0</td>\n",
       "      <td>8.0</td>\n",
       "      <td>192.482</td>\n",
       "      <td>105.5560</td>\n",
       "      <td>219.384</td>\n",
       "      <td>5.89455</td>\n",
       "    </tr>\n",
       "    <tr>\n",
       "      <th>3</th>\n",
       "      <td>5613370</td>\n",
       "      <td>0.332433</td>\n",
       "      <td>0.042543</td>\n",
       "      <td>0.078552</td>\n",
       "      <td>-0.590885</td>\n",
       "      <td>-0.188884</td>\n",
       "      <td>0.771281</td>\n",
       "      <td>0.114562</td>\n",
       "      <td>0.094776</td>\n",
       "      <td>-0.119752</td>\n",
       "      <td>...</td>\n",
       "      <td>0.231099</td>\n",
       "      <td>5613370</td>\n",
       "      <td>1</td>\n",
       "      <td>78.0</td>\n",
       "      <td>63.0</td>\n",
       "      <td>11.0</td>\n",
       "      <td>131.303</td>\n",
       "      <td>101.2110</td>\n",
       "      <td>141.049</td>\n",
       "      <td>6.86871</td>\n",
       "    </tr>\n",
       "    <tr>\n",
       "      <th>4</th>\n",
       "      <td>3588634</td>\n",
       "      <td>0.271653</td>\n",
       "      <td>0.439848</td>\n",
       "      <td>0.130819</td>\n",
       "      <td>-0.608746</td>\n",
       "      <td>-0.632132</td>\n",
       "      <td>0.489525</td>\n",
       "      <td>0.169388</td>\n",
       "      <td>0.047047</td>\n",
       "      <td>-0.061784</td>\n",
       "      <td>...</td>\n",
       "      <td>0.438350</td>\n",
       "      <td>3588634</td>\n",
       "      <td>1</td>\n",
       "      <td>80.0</td>\n",
       "      <td>78.0</td>\n",
       "      <td>9.0</td>\n",
       "      <td>NaN</td>\n",
       "      <td>NaN</td>\n",
       "      <td>NaN</td>\n",
       "      <td>NaN</td>\n",
       "    </tr>\n",
       "  </tbody>\n",
       "</table>\n",
       "<p>5 rows × 586 columns</p>\n",
       "</div>"
      ],
      "text/plain": [
       "        ID         0         1         2         3         4         5  \\\n",
       "0  2871723 -0.089875  0.451444 -0.107884 -0.247353 -0.147103  0.379006   \n",
       "1  4515271  0.356616  0.638387  0.201613 -0.730499 -0.571195  0.916316   \n",
       "2  1441342  0.152269  0.599168  0.152148 -0.769117 -0.422459  0.242664   \n",
       "3  5613370  0.332433  0.042543  0.078552 -0.590885 -0.188884  0.771281   \n",
       "4  3588634  0.271653  0.439848  0.130819 -0.608746 -0.632132  0.489525   \n",
       "\n",
       "          6         7         8  ...       575    f.eid  sex  QRS_duration  \\\n",
       "0 -0.001708 -0.295991 -0.764888  ...  0.118373  2871723    0         128.0   \n",
       "1 -0.202354 -0.149177 -0.276252  ... -0.144028  4515271    0          94.0   \n",
       "2  0.022787 -0.256860 -0.050047  ...  0.012571  1441342    1          98.0   \n",
       "3  0.114562  0.094776 -0.119752  ...  0.231099  5613370    1          78.0   \n",
       "4  0.169388  0.047047 -0.061784  ...  0.438350  3588634    1          80.0   \n",
       "\n",
       "   age_imaging_visit  QRS_num  LV_diast_vol  LV_myoc_mass  RV_diast_vol  \\\n",
       "0               75.0      9.0           NaN           NaN           NaN   \n",
       "1               61.0     11.0       126.864       69.4247       154.333   \n",
       "2               56.0      8.0       192.482      105.5560       219.384   \n",
       "3               63.0     11.0       131.303      101.2110       141.049   \n",
       "4               78.0      9.0           NaN           NaN           NaN   \n",
       "\n",
       "   LV_myoc_thick  \n",
       "0            NaN  \n",
       "1        4.97915  \n",
       "2        5.89455  \n",
       "3        6.86871  \n",
       "4            NaN  \n",
       "\n",
       "[5 rows x 586 columns]"
      ]
     },
     "execution_count": 4,
     "metadata": {},
     "output_type": "execute_result"
    }
   ],
   "source": [
    "print(X_train.shape)\n",
    "\n",
    "train_df.head()"
   ]
  },
  {
   "cell_type": "code",
   "execution_count": 5,
   "metadata": {},
   "outputs": [
    {
     "name": "stdout",
     "output_type": "stream",
     "text": [
      "y train null values\n",
      "age_imaging_visit      91\n",
      "sex                     0\n",
      "QRS_duration            3\n",
      "QRS_num              3866\n",
      "dtype: int64 \n",
      "\n",
      "y test null values\n",
      "age_imaging_visit     132\n",
      "sex                     0\n",
      "QRS_duration            3\n",
      "QRS_num              5125\n",
      "dtype: int64\n"
     ]
    }
   ],
   "source": [
    "print(\"y train null values\")\n",
    "print(y_train.isnull().sum(), \"\\n\")\n",
    "\n",
    "print(\"y test null values\")\n",
    "print(y_test.isnull().sum())\n"
   ]
  },
  {
   "cell_type": "code",
   "execution_count": 6,
   "metadata": {},
   "outputs": [
    {
     "name": "stdout",
     "output_type": "stream",
     "text": [
      "0      0\n",
      "1      0\n",
      "2      0\n",
      "3      0\n",
      "4      0\n",
      "      ..\n",
      "571    0\n",
      "572    0\n",
      "573    0\n",
      "574    0\n",
      "575    0\n",
      "Length: 576, dtype: int64\n"
     ]
    }
   ],
   "source": [
    "print(X_train.isnull().sum())\n"
   ]
  },
  {
   "cell_type": "code",
   "execution_count": 7,
   "metadata": {},
   "outputs": [
    {
     "name": "stdout",
     "output_type": "stream",
     "text": [
      "Root mean squared error for the prediction of Age given ECG embeds:\n",
      "44.23421609887496\n",
      "Mean QRS duration: 65.40849776208786\n",
      "Std QRS duration: 7.824673665757267\n",
      "R^2 for the prediction of Age given ECG embeds:\n",
      "-1.4342849500929646\n"
     ]
    }
   ],
   "source": [
    "y_train.loc[:, 'age_imaging_visit'] = y_train['age_imaging_visit'].fillna(y_train['age_imaging_visit'].mean())\n",
    "y_test.loc[:, 'age_imaging_visit'] = y_test['age_imaging_visit'].fillna(y_test['age_imaging_visit'].mean())\n",
    "\n",
    "reg = LinearRegression().fit(X_train, y_train['age_imaging_visit'])\n",
    "preds = reg.predict(X_test)\n",
    "\n",
    "print(\"Root mean squared error for the prediction of Age given ECG embeds:\")\n",
    "print(mean_squared_error(preds, y_test['age_imaging_visit']))\n",
    "print(\"Mean QRS duration:\", y_test['age_imaging_visit'].mean())\n",
    "print(\"Std QRS duration:\", y_test['age_imaging_visit'].std())\n",
    "\n",
    "print(\"R^2 for the prediction of Age given ECG embeds:\")\n",
    "print(r2_score(preds, y_test['age_imaging_visit']))\n"
   ]
  },
  {
   "cell_type": "code",
   "execution_count": 8,
   "metadata": {},
   "outputs": [
    {
     "name": "stdout",
     "output_type": "stream",
     "text": [
      "Root mean squared error for the prediction of Age given ECG embeds:\n",
      "4.7667452938909936\n",
      "Mean Age duration: 65.40849776208786\n",
      "Std Age duration: 7.824673665757267\n",
      "R^2 for the prediction of Age given ECG embeds:\n",
      "0.6261756510575587\n"
     ]
    }
   ],
   "source": [
    "y_train.loc[:, 'age_imaging_visit'] = y_train['age_imaging_visit'].fillna(y_train['age_imaging_visit'].mean())\n",
    "y_val.loc[:, 'age_imaging_visit'] = y_train['age_imaging_visit'].fillna(y_train['age_imaging_visit'].mean())\n",
    "y_test.loc[:, 'age_imaging_visit'] = y_test['age_imaging_visit'].fillna(y_test['age_imaging_visit'].mean())\n",
    "\n",
    "# regr = MLPRegressor(hidden_layer_sizes=(200, 100, 30), max_iter=200, tol=0.1, random_state=0,\n",
    "#                    warm_start=5, early_stopping=False)\n",
    "\n",
    "regr = MLPRegressor(hidden_layer_sizes=(200, 100, 50, 10), max_iter=1000, tol=1e-4, random_state=0,\n",
    "                    warm_start=False, early_stopping=False, n_iter_no_change=100)\n",
    "regr.fit(X_train, y_train['age_imaging_visit'])\n",
    "preds = regr.predict(X_test)\n",
    "\n",
    "print(\"Root mean squared error for the prediction of Age given ECG embeds:\")\n",
    "print(sqrt(mean_squared_error(preds, y_test['age_imaging_visit'])))\n",
    "print(\"Mean Age duration:\", y_test['age_imaging_visit'].mean())\n",
    "print(\"Std Age duration:\", y_test['age_imaging_visit'].std())\n",
    "\n",
    "print(\"R^2 for the prediction of Age given ECG embeds:\")\n",
    "print(r2_score(preds, y_test['age_imaging_visit']))"
   ]
  },
  {
   "cell_type": "code",
   "execution_count": 9,
   "metadata": {},
   "outputs": [],
   "source": [
    "# regr = RandomForestRegressor(max_depth=100, random_state=0)\n",
    "\n",
    "# regr.fit(X_train, y_train['age_imaging_visit'])\n",
    "\n",
    "# preds = regr.predict(X_test)\n",
    "\n",
    "# print(\"Root mean squared error for the prediction of Age given ECG embeds:\")\n",
    "# print(sqrt(mean_squared_error(preds, y_test['age_imaging_visit'])))\n",
    "# print(\"Mean QRS duration:\", y_test['age_imaging_visit'].mean())\n",
    "# print(\"Std QRS duration:\", y_test['age_imaging_visit'].std())\n",
    "\n",
    "# print(\"R^2 for the prediction of Age given ECG embeds:\")\n",
    "# print(r2_score(preds, y_test['age_imaging_visit']))"
   ]
  },
  {
   "cell_type": "code",
   "execution_count": 10,
   "metadata": {},
   "outputs": [
    {
     "name": "stdout",
     "output_type": "stream",
     "text": [
      "Root mean squared error for the prediction of QRS duration given ECG embeds:\n",
      "4.802911383006246\n",
      "Mean QRS duration: 88.36630815407703\n",
      "Std QRS duration: 14.768375833986578\n",
      "R^2 for the prediction of QRS duration given ECG embeds:\n",
      "0.8954128235027152\n"
     ]
    },
    {
     "name": "stderr",
     "output_type": "stream",
     "text": [
      "/home/abujalancegome/.conda/envs/mae3/lib/python3.11/site-packages/sklearn/neural_network/_multilayer_perceptron.py:691: ConvergenceWarning: Stochastic Optimizer: Maximum iterations (1000) reached and the optimization hasn't converged yet.\n",
      "  warnings.warn(\n"
     ]
    }
   ],
   "source": [
    "y_train.loc[:, 'QRS_duration'] = y_train['QRS_duration'].fillna(y_train['QRS_duration'].mean())\n",
    "y_test.loc[:, 'QRS_duration'] = y_test['QRS_duration'].fillna(y_test['QRS_duration'].mean())\n",
    "\n",
    "regr = MLPRegressor(hidden_layer_sizes=(200, 100, 50, 10), max_iter=1000, tol=1e-4, random_state=0,\n",
    "                    warm_start=False, early_stopping=False, n_iter_no_change=100)\n",
    "regr.fit(X_train, y_train['QRS_duration'])\n",
    "\n",
    "preds = regr.predict(X_test)\n",
    "\n",
    "print(\"Root mean squared error for the prediction of QRS duration given ECG embeds:\")\n",
    "print(sqrt(mean_squared_error(preds, y_test['QRS_duration'])))\n",
    "print(\"Mean QRS duration:\", y_test['QRS_duration'].mean())\n",
    "print(\"Std QRS duration:\", y_test['QRS_duration'].std())\n",
    "\n",
    "print(\"R^2 for the prediction of QRS duration given ECG embeds:\")\n",
    "print(r2_score(preds, y_test['QRS_duration']))"
   ]
  },
  {
   "cell_type": "code",
   "execution_count": 11,
   "metadata": {},
   "outputs": [
    {
     "name": "stdout",
     "output_type": "stream",
     "text": [
      "Root mean squared error for the prediction of QRS num given ECG embeds:\n",
      "0.6215910166726276\n",
      "Mean QRS number: 10.11508739650414\n",
      "Std QRS number: 1.5113059323954954\n",
      "\n",
      "R^2 for the prediction of QRS num given ECG embeds:\n",
      "0.8244351364041665\n"
     ]
    }
   ],
   "source": [
    "y_train.loc[:, 'QRS_num'] = y_train['QRS_num'].fillna(y_train['QRS_num'].mean())\n",
    "y_test.loc[:, 'QRS_num'] = y_test['QRS_num'].fillna(y_test['QRS_num'].mean())\n",
    "\n",
    "regr = MLPRegressor(hidden_layer_sizes=(200, 100, 50, 10), max_iter=1000, tol=1e-4, random_state=0,\n",
    "                    warm_start=False, early_stopping=False, n_iter_no_change=100)\n",
    "regr.fit(X_train, y_train['QRS_num'])\n",
    "preds = regr.predict(X_test)\n",
    "\n",
    "print(\"Root mean squared error for the prediction of QRS num given ECG embeds:\")\n",
    "print(sqrt(mean_squared_error(preds, y_test['QRS_num'])))\n",
    "print(\"Mean QRS number:\", y_test['QRS_num'].mean())\n",
    "print(\"Std QRS number:\", y_test['QRS_num'].std())\n",
    "\n",
    "print(\"\\nR^2 for the prediction of QRS num given ECG embeds:\")\n",
    "print(r2_score(preds, y_test['QRS_num']))"
   ]
  },
  {
   "cell_type": "code",
   "execution_count": 12,
   "metadata": {},
   "outputs": [
    {
     "name": "stdout",
     "output_type": "stream",
     "text": [
      "Perc female: 0.5129728040012504\n",
      "Precision score for the prediction of sex given ECG embeds:\n",
      "0.9623248039089624\n"
     ]
    }
   ],
   "source": [
    "reg = LogisticRegression(max_iter=1500).fit(X_train, y_train['sex'])\n",
    "preds = reg.predict(X_test)\n",
    "\n",
    "regr = MLPClassifier(hidden_layer_sizes=(200, 100, 50, 10), max_iter=1000, tol=1e-4, random_state=0,\n",
    "                    warm_start=False, early_stopping=False, n_iter_no_change=100)\n",
    "regr.fit(X_train, y_train['sex'])\n",
    "preds = regr.predict(X_test)\n",
    "\n",
    "# print(\"ROC AUC for the prediction of sex given ECG embeds:\")\n",
    "# print(roc_auc_score(preds, y_test['sex']))\n",
    "\n",
    "print(\"Perc female:\", 1 - (y_test['sex'].sum() / len(y_test['sex'])))\n",
    "\n",
    "\n",
    "print(\"Precision score for the prediction of sex given ECG embeds:\")\n",
    "print(precision_score(y_test['sex'], preds))"
   ]
  },
  {
   "cell_type": "markdown",
   "metadata": {},
   "source": [
    "Spatial Features"
   ]
  },
  {
   "cell_type": "code",
   "execution_count": 13,
   "metadata": {},
   "outputs": [],
   "source": [
    "# train_df = pd.read_csv('embeds_train_ECG_latents_w_pred_vars_emb_size_576_pre_CL.csv').dropna()\n",
    "# val_df = pd.read_csv('embeds_val_ECG_latents_w_pred_vars_emb_size_576_pre_CL.csv').dropna()\n",
    "\n",
    "# train_df = pd.read_csv('embeds_train_ECG_latents_w_pred_vars_emb_size_576_CL_3D_data.csv').dropna()\n",
    "# val_df = pd.read_csv('embeds_val_ECG_latents_w_pred_vars_emb_size_576_CL_3D_data.csv').dropna()\n",
    "\n",
    "# train_df = pd.read_csv('embeds_train_ECG_latents_w_pred_vars_emb_size_576_CL.csv').dropna()\n",
    "# val_df = pd.read_csv('embeds_val_ECG_latents_w_pred_vars_emb_size_576_CL.csv').dropna()\n",
    "\n",
    "train_df = pd.read_csv('embeds_train_ECG_latents_w_pred_vars_emb_size_576_CL_3D_data_ALL_pheno2.csv').dropna()\n",
    "val_df = pd.read_csv('embeds_val_ECG_latents_w_pred_vars_emb_size_576_CL_3D_data_ALL_pheno2.csv').dropna()\n",
    "\n",
    "# TODO: change to CL\n",
    "X_train = train_df.drop(columns=['LV_diast_vol', 'LV_myoc_mass', 'RV_diast_vol', 'LV_myoc_thick',\n",
    "                                'f.eid', 'ID', 'age_imaging_visit', 'sex', 'QRS_duration', 'QRS_num'])\n",
    "\n",
    "y_train = train_df[['LV_diast_vol', 'LV_myoc_mass', 'RV_diast_vol', 'LV_myoc_thick']]\n",
    "\n",
    "X_test = val_df.drop(columns=['LV_diast_vol', 'LV_myoc_mass', 'RV_diast_vol', 'LV_myoc_thick',\n",
    "                            'f.eid', 'ID', 'age_imaging_visit', 'sex', 'QRS_duration', 'QRS_num'])\n",
    "\n",
    "y_test = val_df[['LV_diast_vol', 'LV_myoc_mass', 'RV_diast_vol', 'LV_myoc_thick']]"
   ]
  },
  {
   "cell_type": "code",
   "execution_count": 14,
   "metadata": {},
   "outputs": [],
   "source": [
    "def spatial_feature_eval(feature):\n",
    "    print(f\"Mean {feature}:\", y_test[feature].mean())\n",
    "    print(f\"Std {feature}:\", y_test[feature].std())\n",
    "    y_train.loc[:, feature] = y_train[feature].fillna(y_train[feature].mean())\n",
    "    y_test.loc[:, feature] = y_test[feature].fillna(y_test[feature].mean())\n",
    "\n",
    "    # regr = RandomForestRegressor(max_depth=100, random_state=0)\n",
    "\n",
    "    # regr.fit(X_train, y_train[feature])\n",
    "\n",
    "    # preds = regr.predict(X_test)\n",
    "\n",
    "    regr = MLPRegressor(hidden_layer_sizes=(200, 100, 50, 10), max_iter=1000, tol=1e-4, random_state=0,\n",
    "                    warm_start=False, early_stopping=False, n_iter_no_change=100)\n",
    "    regr.fit(X_train, y_train[feature])\n",
    "    preds = regr.predict(X_test)\n",
    "\n",
    "    print(f\"\\nRoot mean squared error for the prediction of {feature} given ECG embeds:\")\n",
    "    print(sqrt(mean_squared_error(preds, y_test[feature])))\n",
    "\n",
    "    print(f\"R^2 for the prediction of {feature} given ECG embeds:\")\n",
    "    print(r2_score(preds, y_test[feature]))\n"
   ]
  },
  {
   "cell_type": "code",
   "execution_count": 15,
   "metadata": {},
   "outputs": [
    {
     "name": "stdout",
     "output_type": "stream",
     "text": [
      "Mean LV_diast_vol: 147.73510185983494\n",
      "Std LV_diast_vol: 34.28898729375779\n"
     ]
    },
    {
     "name": "stdout",
     "output_type": "stream",
     "text": [
      "\n",
      "Root mean squared error for the prediction of LV_diast_vol given ECG embeds:\n",
      "16.92875713750101\n",
      "R^2 for the prediction of LV_diast_vol given ECG embeds:\n",
      "0.7526543439496789\n"
     ]
    }
   ],
   "source": [
    "spatial_feature_eval(\"LV_diast_vol\")"
   ]
  },
  {
   "cell_type": "code",
   "execution_count": 16,
   "metadata": {},
   "outputs": [
    {
     "name": "stdout",
     "output_type": "stream",
     "text": [
      "Mean LV_myoc_mass: 86.0057822638256\n",
      "Std LV_myoc_mass: 22.44655196815607\n",
      "\n",
      "Root mean squared error for the prediction of LV_myoc_mass given ECG embeds:\n",
      "9.839774091767236\n",
      "R^2 for the prediction of LV_myoc_mass given ECG embeds:\n",
      "0.8003871213441318\n"
     ]
    }
   ],
   "source": [
    "spatial_feature_eval(\"LV_myoc_mass\")"
   ]
  },
  {
   "cell_type": "code",
   "execution_count": 17,
   "metadata": {},
   "outputs": [
    {
     "name": "stdout",
     "output_type": "stream",
     "text": [
      "Mean RV_diast_vol: 156.58841402882132\n",
      "Std RV_diast_vol: 37.27921346888898\n",
      "\n",
      "Root mean squared error for the prediction of RV_diast_vol given ECG embeds:\n",
      "18.49358543209988\n",
      "R^2 for the prediction of RV_diast_vol given ECG embeds:\n",
      "0.7489395254108975\n"
     ]
    }
   ],
   "source": [
    "spatial_feature_eval(\"RV_diast_vol\")"
   ]
  },
  {
   "cell_type": "code",
   "execution_count": 18,
   "metadata": {},
   "outputs": [
    {
     "name": "stdout",
     "output_type": "stream",
     "text": [
      "Mean LV_myoc_thick: 5.693367071067865\n",
      "Std LV_myoc_thick: 0.7750010119174464\n",
      "\n",
      "Root mean squared error for the prediction of LV_myoc_thick given ECG embeds:\n",
      "0.3549033720183608\n",
      "R^2 for the prediction of LV_myoc_thick given ECG embeds:\n",
      "0.7813184742408726\n"
     ]
    }
   ],
   "source": [
    "spatial_feature_eval(\"LV_myoc_thick\")"
   ]
  }
 ],
 "metadata": {
  "kernelspec": {
   "display_name": "mae3",
   "language": "python",
   "name": "python3"
  },
  "language_info": {
   "codemirror_mode": {
    "name": "ipython",
    "version": 3
   },
   "file_extension": ".py",
   "mimetype": "text/x-python",
   "name": "python",
   "nbconvert_exporter": "python",
   "pygments_lexer": "ipython3",
   "version": "3.11.5"
  }
 },
 "nbformat": 4,
 "nbformat_minor": 2
}
